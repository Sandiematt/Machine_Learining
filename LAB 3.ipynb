{
 "cells": [
  {
   "cell_type": "code",
   "execution_count": null,
   "id": "a3bd3bf6",
   "metadata": {},
   "outputs": [],
   "source": [
    "# Importing necessary libraries\n",
    "import pandas as pd # Used for data manipulation and analysis, especially with data frames\n",
    "import numpy as np # Provides support for arrays, matrices, and numerical operations\n",
    "import matplotlib.pyplot as plt # Used for creating static, interactive, and animated plots\n",
    "import seaborn as sns # Built on top of matplotlib, seaborn provides a high-level interface for drawing attractive statistical graphics\n",
    "from sklearn.model_selection import train_test_split # Used for splitting arrays or matrices into train and test subsets.\n",
    "from sklearn.neighbors import KNeighborsClassifier # Used for implementing the k-nearest neighbors value.\n",
    "from sklearn.metrics import confusion_matrix # Used for evaluate the accuracy of a model.\n",
    "from sklearn.metrics import classification_report # Used for building a text report."
   ]
  },
  {
   "cell_type": "code",
   "execution_count": null,
   "id": "8bb20308",
   "metadata": {},
   "outputs": [],
   "source": [
    "# Load the dataset from the specified file path\n",
    "file_path = r'E:\\ML\\global youtube statistics.csv' # Define the path to the CSV file\n",
    "df = pd.read_csv(file_path, encoding='ISO-8859-1') # Read the CSV file into a pandas DataFrame"
   ]
  },
  {
   "cell_type": "code",
   "execution_count": null,
   "id": "25a5c366",
   "metadata": {},
   "outputs": [],
   "source": [
    "# 1. Initial Inspection\n",
    "print(\"Dataset Overview:\")\n",
    "# Display the first 5 rows of the dataset to get a quick look at the data\n",
    "print(df.head(), \"\\n\")\n",
    "print(\"Dataset Info:\")\n",
    "# Provide detailed information about the dataset including the number of entries, columns, data types, and non-null counts\n",
    "print(df.info(), \"\\n\")\n",
    "print(\"Data Types:\")\n",
    "# Show the data types of each column to identify if any columns need type conversion\n",
    "print(df.dtypes, \"\\n\")"
   ]
  },
  {
   "cell_type": "code",
   "execution_count": null,
   "id": "0f0cb0b3",
   "metadata": {},
   "outputs": [],
   "source": [
    "# 2. Missing Values and Duplicates\n",
    "print(\"Missing Values:\")\n",
    "# Display the count of missing (null) values for each column in the dataset\n",
    "print(df.isnull().sum(), \"\\n\")\n",
    "print(f\"Number of duplicate rows: {df.duplicated().sum()}\\n\")\n",
    "# Display the number of duplicate rows in the dataset"
   ]
  },
  {
   "cell_type": "code",
   "execution_count": null,
   "id": "7d894db6",
   "metadata": {},
   "outputs": [],
   "source": [
    "# Fill missing values\n",
    "for col in df.columns:\n",
    "    if df[col].dtype == 'object':\n",
    "        df[col].fillna(df[col].mode()[0],inplace=True)\n",
    "    else:\n",
    "        df[col].fillna(df[col].mean(),inplace=True)\n",
    "# Check for any remaining null values\n",
    "print(df.isnull().sum())"
   ]
  },
  {
   "cell_type": "code",
   "execution_count": null,
   "id": "5b17077e",
   "metadata": {},
   "outputs": [],
   "source": [
    "# 3. Descriptive Statistics\n",
    "print(\"Descriptive Statistics:\")\n",
    "# Get numeric columns only (int64 and float64 types)\n",
    "num_cols = df.select_dtypes(include=['int64', 'float64']).columns\n",
    "# Generate descriptive statistics summary for numeric columns\n",
    "stats_summary = df.describe().T\n",
    "# Calculate the range for each column (max - min)\n",
    "stats_summary['range'] = stats_summary['max'] - stats_summary['min']\n",
    "# Calculate the median for each numeric column\n",
    "stats_summary['median'] = df[num_cols].median()\n",
    "# Calculate the mode for each numeric column (the most frequent value)\n",
    "stats_summary['mode'] = df[num_cols].mode().iloc[0]\n",
    "# Print the summary statistics\n",
    "print(stats_summary, \"\\n\")"
   ]
  },
  {
   "cell_type": "code",
   "execution_count": null,
   "id": "d451213e",
   "metadata": {},
   "outputs": [],
   "source": [
    "# 4. Visualization: Histograms for Numerical Features\n",
    "# Plot histograms for all numeric features\n",
    "df[num_cols].hist(figsize=(10, 8), bins=20, edgecolor='black')\n",
    "plt.suptitle(\"Histograms of Numerical Features\")\n",
    "plt.show()\n",
    "# Add a new column with a log-transformed version of the first numeric column (if not already present)\n",
    "if 'Negative_Skew_Example' not in df.columns:\n",
    "    df['Negative_Skew_Example'] = np.log1p(df[num_cols[0]])\n",
    "# Get the list of columns to plot (including the newly added 'Negative_Skew_Example' column, if present)\n",
    "columns_to_plot = list(num_cols)\n",
    "if 'Negative_Skew_Example' in df.columns:\n",
    "    columns_to_plot.append('Negative_Skew_Example')\n",
    "# Loop to plot histograms for each column with mean, median, and mode overlay\n",
    "for col in columns_to_plot:\n",
    "    plt.figure(figsize=(8, 6))\n",
    "    sns.histplot(df[col], kde=True, bins=20, color=\"blue\", edgecolor=\"black\", alpha=0.7)\n",
    "    # Calculate mean, median, and mode for each column\n",
    "    mean = df[col].mean()\n",
    "    median = df[col].median()\n",
    "    mode = df[col].mode()[0]\n",
    "    # Add vertical lines for mean, median, and mode to the histogram\n",
    "    plt.axvline(mean, color='red', linestyle='--', linewidth=2, label=f\"Mean: {mean:.2f}\")\n",
    "    plt.axvline(median, color='green', linestyle='-', linewidth=2, label=f\"Median: {median:.2f}\")\n",
    "    plt.axvline(mode, color='orange', linestyle='-.', linewidth=2, label=f\"Mode: {mode:.2f}\")\n",
    "    # Add title, labels, and legend\n",
    "    plt.title(f\"Histogram of {col} with Mean, Median, and Mode\")\n",
    "    plt.xlabel(col)\n",
    "    plt.ylabel(\"Frequency\")\n",
    "    plt.legend()\n",
    "    plt.show()\n",
    "    # Determine skewness based on mean and median\n",
    "    if mean > median:\n",
    "        skewness_type = \"Positive Skew\"\n",
    "    elif mean < median:\n",
    "        skewness_type = \"Negative Skew\"\n",
    "    else:\n",
    "        skewness_type = \"No Skew\"\n",
    "    # Print the skewness and summary statistics\n",
    "    print(f\"{col}: Mean={mean:.2f}, Median={median:.2f}, Mode={mode:.2f} -> {skewness_type}\")"
   ]
  },
  {
   "cell_type": "code",
   "execution_count": null,
   "id": "79faf079",
   "metadata": {},
   "outputs": [],
   "source": [
    "# Distribution of nominal variables using count plot\n",
    "if 'category' in df.columns:\n",
    "    plt.figure(figsize=(12, 6))\n",
    "    # Plot a count plot for the 'category' column, ordered by the frequency of each category\n",
    "    sns.countplot(data=df, y='category', order=df['category'].value_counts().index, palette='viridis')\n",
    "    plt.title(\"Count of Categories\")\n",
    "    plt.show()"
   ]
  },
  {
   "cell_type": "code",
   "execution_count": null,
   "id": "16956913",
   "metadata": {},
   "outputs": [],
   "source": [
    "# Pair plot\n",
    "sns.pairplot(df[num_cols], diag_kind=\"kde\",)\n",
    "plt.suptitle(\"Pair Plot of Numerical Features\", y=1.02)\n",
    "plt.show()"
   ]
  },
  {
   "cell_type": "code",
   "execution_count": null,
   "id": "980a7532",
   "metadata": {},
   "outputs": [],
   "source": [
    "# Heat map for Correlation\n",
    "plt.figure(figsize=(8, 6)) # Create a figure with a size of 8x6 inches to ensure readability of the heatmap\n",
    "# Generate the heatmap:\n",
    "# df[num_cols].corr() calculates the correlation matrix for the numerical columns in the dataset\n",
    "# annot=True annotates the heatmap cells with the correlation coefficient values\n",
    "# cmap='coolwarm' uses a color palette from blue (negative) to red (positive) to represent the correlation strength\n",
    "# fmt='.2f' formats the correlation values to two decimal places for clarity\n",
    "# linewidths=0.5 adjusts the width of the lines separating cells in the heatmap, making them subtle\n",
    "sns.heatmap(df[num_cols].corr(), annot=True, cmap='coolwarm', fmt='.2f', linewidths=0.5)\n",
    "plt.title(\"Correlation Matrix\") # Adds a title \"Correlation Matrix\" to the heatmap\n",
    "plt.show() # Display the heatmap to the screen"
   ]
  },
  {
   "cell_type": "code",
   "execution_count": null,
   "id": "01dbef49",
   "metadata": {},
   "outputs": [],
   "source": [
    "# Define the numerical columns and the grouping column\n",
    "numerical_cols = ['subscribers', 'video views', 'uploads']\n",
    "grouping_col = 'category' # Grouping by category\n",
    "# Create subplots for each numerical column\n",
    "fig, axes = plt.subplots(1, 3, figsize=(18, 6)) # 1 row, 3 columns for the plots\n",
    "# Create a boxplot for each numerical feature\n",
    "for i, col in enumerate(numerical_cols):\n",
    "    sns.boxplot(data=df, x=col, y=grouping_col, hue=grouping_col, palette='Set3', ax=axes[i], dodge=False)\n",
    "    axes[i].set_title(f\"Box Plot of {col.capitalize()} by Category\", fontsize=14)\n",
    "    axes[i].set_xlabel(col.capitalize(), fontsize=12)\n",
    "    axes[i].set_ylabel(\"Category\", fontsize=12)\n",
    "# Adjust layout to ensure no overlapping labels\n",
    "plt.tight_layout()\n",
    "plt.show()"
   ]
  },
  {
   "cell_type": "code",
   "execution_count": null,
   "id": "4d1f957a",
   "metadata": {},
   "outputs": [],
   "source": [
    "# One-Hot Encoding Example\n",
    "import category_encoders as ce\n",
    "# Sample data\n",
    "data = {\n",
    "    'Country': ['India', 'United States', 'United States', 'United States', 'India']\n",
    "}\n",
    "df = pd.DataFrame(data)\n",
    "# Convert the 'Country' column to categorical dtype\n",
    "df['Country'] = df['Country'].astype('category')\n",
    "# One-Hot Encoding for the 'Country' column using category_encoders\n",
    "encoder = ce.OneHotEncoder(cols=['Country'], use_cat_names=True)\n",
    "df_encoded = encoder.fit_transform(df)\n",
    "# Display the result\n",
    "print(\"One-Hot Encoded Data using category_encoders:\")\n",
    "print(df_encoded.head())"
   ]
  },
  {
   "cell_type": "code",
   "execution_count": null,
   "id": "040f7037",
   "metadata": {},
   "outputs": [],
   "source": [
    "# Dummy Encoding Example\n",
    "# Sample data\n",
    "data = {\n",
    "    'Country': ['India', 'United States', 'United States', 'United States', 'India']\n",
    "}\n",
    "df = pd.DataFrame(data)\n",
    "# Convert the 'Country' column to categorical dtype\n",
    "df['Country'] = df['Country'].astype('category')\n",
    "# Dummy Encoding for the 'Country' column using category_encoders\n",
    "encoder = ce.OneHotEncoder(cols=['Country'], use_cat_names=True, drop_invariant=True)\n",
    "df_encoded = encoder.fit_transform(df).iloc[:, 1:] # Drop the first column explicitly\n",
    "# Display the result\n",
    "print(\"Dummy Encoded Data using category_encoders:\")\n",
    "print(df_encoded.head())"
   ]
  },
  {
   "cell_type": "code",
   "execution_count": null,
   "id": "bd28301d",
   "metadata": {},
   "outputs": [],
   "source": [
    "# Ordinal Encoding Example\n",
    "import pandas as pd\n",
    "import category_encoders as ce\n",
    "# Sample data\n",
    "data = {\n",
    "    'Channel_Type': [\n",
    "        'Music', 'Games', 'Entertainment', 'Education', 'Entertainment',\n",
    "        'Music', 'Entertainment', 'Entertainment', 'People', 'Entertainment',\n",
    "        'Music', 'Sports', 'Games', 'Music', 'Music', 'Entertainment',\n",
    "        'Entertainment', 'Music', 'Entertainment', 'Music', 'Music',\n",
    "        'Entertainment', 'Education', 'Music', 'Education', 'Music',\n",
    "        'Entertainment', 'Music', 'Sports', 'Film', 'Music', 'Music',\n",
    "        'Music', 'News'\n",
    "    ]\n",
    "}\n",
    "# Create a DataFrame\n",
    "df = pd.DataFrame(data)\n",
    "# Ordinal Encoding for the 'Channel_Type' column using category_encoders\n",
    "encoder = ce.OrdinalEncoder(cols=['Channel_Type'])\n",
    "df_encoded = encoder.fit_transform(df)\n",
    "# Combine original and encoded data\n",
    "df_combined = pd.concat([df, df_encoded], axis=1)\n",
    "df_combined.columns = ['Channel_Type (Original)', 'Channel_Type (Encoded)']\n",
    "# Display the result\n",
    "print(\"Original Data with Ordinal Encoding:\")\n",
    "print(df_combined)"
   ]
  },
  {
   "cell_type": "code",
   "execution_count": null,
   "id": "5bccb238",
   "metadata": {},
   "outputs": [],
   "source": [
    "# Count Encoding Example\n",
    "import pandas as pd\n",
    "# Sample data\n",
    "data = {\n",
    "    'Channel_Type': [\n",
    "        'Music', 'Games', 'Entertainment', 'Education', 'Entertainment',\n",
    "        'Music', 'Entertainment', 'Entertainment', 'People', 'Entertainment',\n",
    "        'Music', 'Sports', 'Games', 'Music', 'Music', 'Entertainment',\n",
    "        'Entertainment', 'Music', 'Entertainment', 'Music', 'Music',\n",
    "        'Entertainment', 'Education', 'Music', 'Education', 'Music',\n",
    "        'Entertainment', 'Music', 'Sports', 'Film', 'Music', 'Music',\n",
    "        'Music', 'News'\n",
    "    ]\n",
    "}\n",
    "# Create a DataFrame\n",
    "df = pd.DataFrame(data)\n",
    "# Count the occurrences of each category\n",
    "count_encoding = df['Channel_Type'].value_counts().to_dict()\n",
    "# Map each category to its count value\n",
    "df['Channel_Type_Count'] = df['Channel_Type'].map(count_encoding)\n",
    "# Display the result without the 8421 binary encoding\n",
    "print(\"Data with Count Encoding:\")\n",
    "print(df[['Channel_Type', 'Channel_Type_Count']])"
   ]
  },
  {
   "cell_type": "code",
   "execution_count": null,
   "id": "3ae930e6",
   "metadata": {},
   "outputs": [],
   "source": [
    "# Binary Encoding Example\n",
    "import pandas as pd\n",
    "import category_encoders as ce\n",
    "# Sample data\n",
    "data = {\n",
    "    'Channel_Type': [\n",
    "        'Music', 'Games', 'Entertainment', 'Education', 'Entertainment',\n",
    "        'Music', 'Entertainment', 'Entertainment', 'People', 'Entertainment',\n",
    "        'Music', 'Sports', 'Games', 'Music', 'Music', 'Entertainment',\n",
    "        'Entertainment', 'Music', 'Entertainment', 'Music', 'Music',\n",
    "        'Entertainment', 'Education', 'Music', 'Education', 'Music',\n",
    "        'Entertainment', 'Music', 'Sports', 'Film', 'Music', 'Music',\n",
    "        'Music', 'News'\n",
    "    ]\n",
    "}\n",
    "# Create a DataFrame\n",
    "df = pd.DataFrame(data)\n",
    "# Binary Encoding for the 'Channel_Type' column\n",
    "encoder = ce.BinaryEncoder(cols=['Channel_Type'])\n",
    "df_encoded = encoder.fit_transform(df)\n",
    "# Combine original and encoded data\n",
    "df_combined = pd.concat([df, df_encoded], axis=1)\n",
    "# Display the result\n",
    "print(\"Original Data with Binary Encoding:\")\n",
    "print(df_combined.head())"
   ]
  },
  {
   "cell_type": "code",
   "execution_count": null,
   "id": "6a6181f9",
   "metadata": {},
   "outputs": [],
   "source": [
    "# Cell 1: Import necessary libraries and load dataset\n",
    "import pandas as pd\n",
    "# Load dataset\n",
    "file_path = r\"E:\\ML\\global youtube statistics.csv\" # Replace with your file path\n",
    "df = pd.read_csv(file_path, encoding='ISO-8859-1')\n",
    "# Display the first few rows of the dataset\n",
    "df.head()"
   ]
  },
  {
   "cell_type": "code",
   "execution_count": null,
   "id": "d1c7be8a",
   "metadata": {},
   "outputs": [],
   "source": [
    "# Label Encoding for KNN Classification\n",
    "from sklearn.preprocessing import LabelEncoder\n",
    "# Define categorical columns\n",
    "categorical_columns = ['category', 'Country', 'Abbreviation', 'channel_type', 'Youtuber','Title']\n",
    "# Initialize LabelEncoder\n",
    "label_encoder = LabelEncoder()\n",
    "# Apply Label Encoding to each categorical column\n",
    "for column in categorical_columns:\n",
    "    df[column] = label_encoder.fit_transform(df[column])\n",
    "target_column = 'Validity'\n",
    "# Separate features and target\n",
    "X = df.drop(columns=[target_column])\n",
    "y = df[target_column]\n",
    "# Check the first few rows to ensure everything is numeric, including 'Youtuber'\n",
    "print(X.head())"
   ]
  },
  {
   "cell_type": "code",
   "execution_count": null,
   "id": "b6f45881",
   "metadata": {},
   "outputs": [],
   "source": [
    "# Split data for KNN Classification\n",
    "from sklearn.model_selection import train_test_split\n",
    "# Split the data into training and testing sets (80% train, 20% test) -test size\n",
    "X_train, X_test, y_train, y_test = train_test_split(X, y, test_size=0.2, random_state=42, stratify=y)\n",
    "#x is independent variable #y is dependent variable\n",
    "#random state is used to data is split in same way every time you run the code\n",
    "#stratify is used to both training and testing have same proportions of 1 and 0"
   ]
  },
  {
   "cell_type": "code",
   "execution_count": null,
   "id": "2b4b5de4",
   "metadata": {},
   "outputs": [],
   "source": [
    "# KNN Classifier\n",
    "from sklearn.neighbors import KNeighborsClassifier\n",
    "from sklearn.metrics import accuracy_score, classification_report\n",
    "# Initialize the KNN classifier\n",
    "knn = KNeighborsClassifier(n_neighbors=1) # You can adjust the number of neighbors\n",
    "# Fit the model on the training data\n",
    "knn.fit(X_train, y_train)\n",
    "#classifies data point based on the class of its closest neighbor.\n",
    "#it can be sensitive to noise in the data because if the closest point is noisy or an outlier, it will heavily influence the prediction.\n",
    "# it will look at the stored training data to find the nearest neighbor(s)"
   ]
  },
  {
   "cell_type": "code",
   "execution_count": null,
   "id": "4420d60e",
   "metadata": {},
   "outputs": [],
   "source": [
    "# Get model score\n",
    "knn.score(X_test, y_test)\n",
    "#Get accuracy. Note: In case of classification algorithms score method represents accuracy."
   ]
  },
  {
   "cell_type": "code",
   "execution_count": null,
   "id": "2fb7fc0a",
   "metadata": {},
   "outputs": [],
   "source": [
    "# Make predictions\n",
    "y_pred = knn.predict(X_test)"
   ]
  },
  {
   "cell_type": "code",
   "execution_count": null,
   "id": "b3708212",
   "metadata": {},
   "outputs": [],
   "source": [
    "# Confusion matrix\n",
    "confusion_matrix(y_test, y_pred)\n",
    "#True Positives (TP): 25 — The model correctly predicted that 50 channels exist.\n",
    "#True Negatives (TN): 44 — The model correctly predicted that 100 channels do not exist.\n",
    "#False Positives (FP): 16 — The model incorrectly predicted that 10 channels exist, but they do not.\n",
    "#False Negatives (FN): 15— The model incorrectly predicted that 5 channels do not exist, but they actually do."
   ]
  },
  {
   "cell_type": "code",
   "execution_count": null,
   "id": "007431c4",
   "metadata": {},
   "outputs": [],
   "source": [
    "# Create confusion matrix as DataFrame\n",
    "pd.DataFrame(confusion_matrix(y_test, y_pred), columns=['Predicted Not Valid','Predicted Validity'], index=['Actually Not Valid','Actually Valid'])"
   ]
  },
  {
   "cell_type": "code",
   "execution_count": null,
   "id": "1b0fbe51",
   "metadata": {},
   "outputs": [],
   "source": [
    "# Classification report\n",
    "# y_test: True labels (actual values) from the test dataset.\n",
    "# y_pred: Predicted labels (values) by the classification model.\n",
    "print(classification_report(y_test, y_pred))"
   ]
  },
  {
   "cell_type": "code",
   "execution_count": null,
   "id": "1bd90bd3",
   "metadata": {},
   "outputs": [],
   "source": [
    "# Find optimal K value\n",
    "error_rate = []\n",
    "for i in range(1, 40):\n",
    "    knn = KNeighborsClassifier(n_neighbors=i)\n",
    "    knn.fit(X_train, y_train)\n",
    "    pred_i = knn.predict(X_test)\n",
    "    error_rate.append(np.mean(pred_i != y_test))"
   ]
  },
  {
   "cell_type": "code",
   "execution_count": null,
   "id": "ae26b59c",
   "metadata": {},
   "outputs": [],
   "source": [
    "# Plot error rate vs K value\n",
    "plt.figure(figsize=(10, 6))\n",
    "plt.plot(range(1, 40), error_rate, color='blue', linestyle='dashed', marker='o', markerfacecolor='red', markersize=10)\n",
    "plt.title('Error Rate vs. K Value')\n",
    "plt.xlabel('K')\n",
    "plt.ylabel('Error Rate')"
   ]
  },
  {
   "cell_type": "code",
   "execution_count": null,
   "id": "2583192b",
   "metadata": {},
   "outputs": [],
   "source": [
    "# Train with optimal K value\n",
    "knn = KNeighborsClassifier(n_neighbors=14)\n",
    "knn.fit(X_train, y_train)\n",
    "pred = knn.predict(X_test)\n",
    "print(classification_report(y_test, y_pred))\n",
    "print(\"Accuracy: \", knn.score(X_test, y_test))"
   ]
  }
 ],
 "metadata": {},
 "nbformat": 4,
 "nbformat_minor": 5
}
